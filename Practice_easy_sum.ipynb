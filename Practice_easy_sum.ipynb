{
  "nbformat": 4,
  "nbformat_minor": 0,
  "metadata": {
    "colab": {
      "provenance": [],
      "authorship_tag": "ABX9TyMqAVXWv0EbrCJbcvh8onC/",
      "include_colab_link": true
    },
    "kernelspec": {
      "name": "python3",
      "display_name": "Python 3"
    },
    "language_info": {
      "name": "python"
    }
  },
  "cells": [
    {
      "cell_type": "markdown",
      "metadata": {
        "id": "view-in-github",
        "colab_type": "text"
      },
      "source": [
        "<a href=\"https://colab.research.google.com/github/Nandhagopal1319/github/blob/main/Practice_easy_sum.ipynb\" target=\"_parent\"><img src=\"https://colab.research.google.com/assets/colab-badge.svg\" alt=\"Open In Colab\"/></a>"
      ]
    },
    {
      "cell_type": "markdown",
      "source": [
        "# **Task 1**"
      ],
      "metadata": {
        "id": "k-tuXB3kCkt8"
      }
    },
    {
      "cell_type": "code",
      "source": [
        "a=int(input(\"enter the value\"))\n",
        "b=a//500\n",
        "c=a%500\n",
        "d=c//200\n",
        "e=c%200\n",
        "f=e//100\n",
        "g=e%100\n",
        "h=g//50\n",
        "i=g%50\n",
        "j=i//20\n",
        "k=i%20\n",
        "l=k//10\n",
        "m=k%10\n",
        "n=m//5\n",
        "o=m%5\n",
        "p=o//2\n",
        "q=o%2\n",
        "r=q//1\n",
        "\n",
        "print (\"Five hundrud\", b)\n",
        "print (\"Two hundrud\", d)\n",
        "print (\"One hundrud\", f)\n",
        "print (\"Fiftey\", h)\n",
        "print (\"Twenty\", j)\n",
        "print (\"Ten\", l)\n",
        "print (\"Five\", n)\n",
        "print (\"Two\", o)\n",
        "print (\"One\", r)"
      ],
      "metadata": {
        "colab": {
          "base_uri": "https://localhost:8080/"
        },
        "id": "jqBGhgpJCpiq",
        "outputId": "136f7363-8d0e-4ccc-a1c3-aabb3a0145c4"
      },
      "execution_count": null,
      "outputs": [
        {
          "output_type": "stream",
          "name": "stdout",
          "text": [
            "enter the value7858\n",
            "Five hundrud 15\n",
            "Two hundrud 1\n",
            "One hundrud 1\n",
            "Fiftey 1\n",
            "Twenty 0\n",
            "Ten 0\n",
            "Five 1\n",
            "Two 3\n",
            "One 1\n"
          ]
        }
      ]
    }
  ]
}