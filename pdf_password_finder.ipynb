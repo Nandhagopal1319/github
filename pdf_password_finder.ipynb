{
  "nbformat": 4,
  "nbformat_minor": 0,
  "metadata": {
    "colab": {
      "provenance": [],
      "authorship_tag": "ABX9TyNZoyzQtLihsWrCQn5q/ezI",
      "include_colab_link": true
    },
    "kernelspec": {
      "name": "python3",
      "display_name": "Python 3"
    },
    "language_info": {
      "name": "python"
    }
  },
  "cells": [
    {
      "cell_type": "markdown",
      "metadata": {
        "id": "view-in-github",
        "colab_type": "text"
      },
      "source": [
        "<a href=\"https://colab.research.google.com/github/Nandhagopal1319/github/blob/main/pdf_password_finder.ipynb\" target=\"_parent\"><img src=\"https://colab.research.google.com/assets/colab-badge.svg\" alt=\"Open In Colab\"/></a>"
      ]
    },
    {
      "cell_type": "code",
      "execution_count": null,
      "metadata": {
        "colab": {
          "base_uri": "https://localhost:8080/"
        },
        "id": "xKpnbB7iGd4H",
        "outputId": "dab708f9-c356-4c99-d70b-ba6039bd85f9"
      },
      "outputs": [
        {
          "output_type": "stream",
          "name": "stdout",
          "text": [
            "Collecting pikepdf\n",
            "  Downloading pikepdf-8.4.0-cp310-cp310-manylinux_2_17_x86_64.manylinux2014_x86_64.whl (2.3 MB)\n",
            "\u001b[2K     \u001b[90m━━━━━━━━━━━━━━━━━━━━━━━━━━━━━━━━━━━━━━━━\u001b[0m \u001b[32m2.3/2.3 MB\u001b[0m \u001b[31m13.3 MB/s\u001b[0m eta \u001b[36m0:00:00\u001b[0m\n",
            "\u001b[?25hRequirement already satisfied: Pillow>=9.0 in /usr/local/lib/python3.10/dist-packages (from pikepdf) (9.4.0)\n",
            "Collecting deprecation (from pikepdf)\n",
            "  Downloading deprecation-2.1.0-py2.py3-none-any.whl (11 kB)\n",
            "Requirement already satisfied: lxml>=4.8 in /usr/local/lib/python3.10/dist-packages (from pikepdf) (4.9.3)\n",
            "Requirement already satisfied: packaging in /usr/local/lib/python3.10/dist-packages (from pikepdf) (23.1)\n",
            "Installing collected packages: deprecation, pikepdf\n",
            "Successfully installed deprecation-2.1.0 pikepdf-8.4.0\n"
          ]
        }
      ],
      "source": [
        "pip install pikepdf"
      ]
    },
    {
      "cell_type": "code",
      "source": [
        "import pikepdf\n"
      ],
      "metadata": {
        "id": "gnHxQA5-gX0c"
      },
      "execution_count": null,
      "outputs": []
    },
    {
      "cell_type": "code",
      "source": [
        "from tqdm import tqdm\n",
        "\n"
      ],
      "metadata": {
        "id": "ridnO0e8gdCh"
      },
      "execution_count": null,
      "outputs": []
    },
    {
      "cell_type": "code",
      "source": [
        "# load password list\n",
        "passwords = [ line.strip() for line in open(\"/content/10-million-password-list-top-1000000.txt\") ]"
      ],
      "metadata": {
        "id": "KpD-fesrggBA"
      },
      "execution_count": null,
      "outputs": []
    },
    {
      "cell_type": "code",
      "source": [
        "# iterate over passwords\n",
        "for password in tqdm(passwords, \"Decrypting PDF\"):\n",
        "    try:\n",
        "        # open PDF file\n",
        "        with pikepdf.open(\"/content/praveen.pdf\", password=password) as pdf:\n",
        "            # Password decrypted successfully, break out of the loop\n",
        "            print(\"[+] Password found:\", password)\n",
        "            break\n",
        "    except pikepdf._core.PasswordError as e:\n",
        "        # wrong password, just continue in the loop\n",
        "        continue"
      ],
      "metadata": {
        "colab": {
          "base_uri": "https://localhost:8080/"
        },
        "id": "hhRoQamvgv6j",
        "outputId": "469ec02f-6e1a-4625-ea78-fa7865e3d1c5"
      },
      "execution_count": null,
      "outputs": [
        {
          "output_type": "stream",
          "name": "stderr",
          "text": [
            "Decrypting PDF:  45%|████▌     | 234012/515055 [04:09<04:59, 937.49it/s] "
          ]
        },
        {
          "output_type": "stream",
          "name": "stdout",
          "text": [
            "[+] Password found: 842100\n"
          ]
        },
        {
          "output_type": "stream",
          "name": "stderr",
          "text": [
            "\n"
          ]
        }
      ]
    },
    {
      "cell_type": "code",
      "source": [],
      "metadata": {
        "id": "1avwPA0bun5s"
      },
      "execution_count": null,
      "outputs": []
    }
  ]
}